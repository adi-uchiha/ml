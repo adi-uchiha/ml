{
 "cells": [
  {
   "cell_type": "code",
   "execution_count": 1,
   "id": "e2b70a46-4e2b-4472-90ca-db21b14dfacf",
   "metadata": {},
   "outputs": [],
   "source": [
    "from sklearn import datasets\n",
    "import matplotlib.pyplot as plt\n",
    "\n",
    "digits = datasets.load_digits()"
   ]
  },
  {
   "cell_type": "code",
   "execution_count": 2,
   "id": "dab36cfb-9131-4d7d-9e6b-69ae375976e6",
   "metadata": {},
   "outputs": [
    {
     "name": "stdout",
     "output_type": "stream",
     "text": [
      "Dataset shape: (1797, 8, 8)\n",
      "Number of samples: 1797\n",
      "Number of features per sample : 64\n",
      "Target lables (digits) : {0, 1, 2, 3, 4, 5, 6, 7, 8, 9}\n"
     ]
    },
    {
     "data": {
      "image/png": "[encoded data removed]",
      "text/plain": [
       "<Figure size 1000x300 with 5 Axes>"
      ]
     },
     "metadata": {},
     "output_type": "display_data"
    }
   ],
   "source": [
    "print(f\"Dataset shape: {digits.images.shape}\")\n",
    "print(f\"Number of samples: {len(digits.images)}\")\n",
    "print(f\"Number of features per sample : {digits.data.shape[1]}\")\n",
    "print(f\"Target lables (digits) : {set(digits.target)}\")\n",
    "\n",
    "fig, axes = plt.subplots(1,5,figsize=(10,3))\n",
    "for i,ax in enumerate(axes):\n",
    "    ax.imshow(digits.images[i],cmap='gray')\n",
    "    ax.set_title(f\"label: {digits.target[i]}\")\n",
    "plt.show()"
   ]
  },
  {
   "cell_type": "code",
   "execution_count": 4,
   "id": "8c08fd40-e957-45db-8e34-c26ce2cc669d",
   "metadata": {},
   "outputs": [
    {
     "name": "stdout",
     "output_type": "stream",
     "text": [
      "Training set shape: (1347, 64)\n",
      "Test set shape: (450, 64)\n"
     ]
    }
   ],
   "source": [
    "from sklearn.datasets import load_digits\n",
    "from sklearn.model_selection import train_test_split\n",
    "from sklearn.preprocessing import StandardScaler\n",
    "\n",
    "# Load digits dataset\n",
    "digits = load_digits()\n",
    "X = digits.data\n",
    "Y = digits.target\n",
    "\n",
    "# Standardize the dataset\n",
    "scaler = StandardScaler()\n",
    "X_scaled = scaler.fit_transform(X)\n",
    "\n",
    "# Split the data\n",
    "X_train, X_test, y_train, y_test = train_test_split(X_scaled, Y, test_size=0.25, random_state=42)\n",
    "\n",
    "# Display shapes of the train and test sets\n",
    "print(f\"Training set shape: {X_train.shape}\")\n",
    "print(f\"Test set shape: {X_test.shape}\")\n"
   ]
  },
  {
   "cell_type": "code",
   "execution_count": 5,
   "id": "d040b378-aa1c-4341-acfe-8aa35e71e8fe",
   "metadata": {},
   "outputs": [
    {
     "name": "stdout",
     "output_type": "stream",
     "text": [
      "\n",
      "linear kernel SVM performance:\n",
      "accuracy:97.78%\n",
      "              precision    recall  f1-score   support\n",
      "\n",
      "           0       0.98      1.00      0.99        43\n",
      "           1       0.97      1.00      0.99        37\n",
      "           2       0.97      1.00      0.99        38\n",
      "           3       0.96      0.96      0.96        46\n",
      "           4       1.00      1.00      1.00        55\n",
      "           5       0.97      0.97      0.97        59\n",
      "           6       0.98      0.98      0.98        45\n",
      "           7       0.98      0.98      0.98        41\n",
      "           8       1.00      0.95      0.97        38\n",
      "           9       0.98      0.96      0.97        48\n",
      "\n",
      "    accuracy                           0.98       450\n",
      "   macro avg       0.98      0.98      0.98       450\n",
      "weighted avg       0.98      0.98      0.98       450\n",
      "\n"
     ]
    }
   ],
   "source": [
    "from sklearn.svm import SVC\n",
    "from sklearn.metrics import classification_report,accuracy_score\n",
    "\n",
    "svm_linear = SVC(kernel ='linear',random_state=42)\n",
    "svm_linear.fit(X_train,y_train)\n",
    "\n",
    "y_pred_linear = svm_linear.predict(X_test)\n",
    "\n",
    "print(\"\\nlinear kernel SVM performance:\")\n",
    "print(f\"accuracy:{accuracy_score(y_test,y_pred_linear) * 100:.2f}%\")\n",
    "print(classification_report(y_test,y_pred_linear))"
   ]
  },
  {
   "cell_type": "code",
   "execution_count": 8,
   "id": "90cb1dc8-8934-4279-9fd2-b9bb016df09a",
   "metadata": {},
   "outputs": [
    {
     "name": "stdout",
     "output_type": "stream",
     "text": [
      "\n",
      " RBF kernel SVM performance:\n",
      "accuracy: 98.444444%\n",
      "              precision    recall  f1-score   support\n",
      "\n",
      "           0       1.00      1.00      1.00        43\n",
      "           1       1.00      1.00      1.00        37\n",
      "           2       0.97      1.00      0.99        38\n",
      "           3       1.00      0.96      0.98        46\n",
      "           4       1.00      1.00      1.00        55\n",
      "           5       0.97      1.00      0.98        59\n",
      "           6       0.98      1.00      0.99        45\n",
      "           7       1.00      0.98      0.99        41\n",
      "           8       0.95      0.97      0.96        38\n",
      "           9       0.98      0.94      0.96        48\n",
      "\n",
      "    accuracy                           0.98       450\n",
      "   macro avg       0.98      0.98      0.98       450\n",
      "weighted avg       0.98      0.98      0.98       450\n",
      "\n"
     ]
    }
   ],
   "source": [
    "svm_rbf = SVC(kernel='rbf',gamma='auto',random_state=42)\n",
    "svm_rbf.fit(X_train,y_train)\n",
    "\n",
    "y_pred_rbf = svm_rbf.predict(X_test)\n",
    "\n",
    "print(\"\\n RBF kernel SVM performance:\")\n",
    "print(f\"accuracy: {accuracy_score(y_test,y_pred_rbf) *100:2f}%\")\n",
    "print(classification_report(y_test,y_pred_rbf))"
   ]
  },
  {
   "cell_type": "code",
   "execution_count": 12,
   "id": "f61f5ed0-8489-49fd-b472-2749aea32cc8",
   "metadata": {},
   "outputs": [
    {
     "name": "stdout",
     "output_type": "stream",
     "text": [
      "\n",
      "best parameters from Grid Search:{'C': 10, 'gamma': 0.01, 'kernel': 'rbf'}\n",
      "Best cross-validation accuracy : 98.00\n",
      "\n",
      "Best RBF Kernel svm Performance after Hyperparameter tuning:\n",
      "accuracy : 98.22%\n",
      "              precision    recall  f1-score   support\n",
      "\n",
      "           0       1.00      1.00      1.00        43\n",
      "           1       1.00      1.00      1.00        37\n",
      "           2       0.95      1.00      0.97        38\n",
      "           3       0.98      0.96      0.97        46\n",
      "           4       1.00      1.00      1.00        55\n",
      "           5       0.98      0.98      0.98        59\n",
      "           6       0.98      1.00      0.99        45\n",
      "           7       0.98      0.98      0.98        41\n",
      "           8       1.00      0.97      0.99        38\n",
      "           9       0.96      0.94      0.95        48\n",
      "\n",
      "    accuracy                           0.98       450\n",
      "   macro avg       0.98      0.98      0.98       450\n",
      "weighted avg       0.98      0.98      0.98       450\n",
      "\n"
     ]
    }
   ],
   "source": [
    "from sklearn.model_selection import GridSearchCV\n",
    "\n",
    "param_grid = {\n",
    "    'C' : [0.1,1,10,100],\n",
    "    'gamma' : [0.001,0.01,0.1,'auto'],\n",
    "    'kernel' : ['rbf']\n",
    "}\n",
    "\n",
    "grid_search = GridSearchCV(SVC(),param_grid,cv=5,scoring='accuracy')\n",
    "grid_search.fit(X_train,y_train)\n",
    "\n",
    "print(f\"\\nbest parameters from Grid Search:{grid_search.best_params_}\")\n",
    "print(f\"Best cross-validation accuracy : {grid_search.best_score_*100:.2f}\")\n",
    "\n",
    "best_svm = grid_search.best_estimator_\n",
    "y_pred_best = best_svm.predict(X_test)\n",
    "\n",
    "print(\"\\nBest RBF Kernel svm Performance after Hyperparameter tuning:\")\n",
    "print(f\"accuracy : {accuracy_score(y_test,y_pred_best)*100:.2f}%\")\n",
    "print(classification_report(y_test,y_pred_best))"
   ]
  },
  {
   "cell_type": "code",
   "execution_count": null,
   "id": "30fdba6e-f5d8-4f96-8b74-e8010bfa4a25",
   "metadata": {},
   "outputs": [],
   "source": []
  }
 ],
 "metadata": {
  "kernelspec": {
   "display_name": "Python 3 (ipykernel)",
   "language": "python",
   "name": "python3"
  },
  "language_info": {
   "codemirror_mode": {
    "name": "ipython",
    "version": 3
   },
   "file_extension": ".py",
   "mimetype": "text/x-python",
   "name": "python",
   "nbconvert_exporter": "python",
   "pygments_lexer": "ipython3",
   "version": "3.10.2"
  }
 },
 "nbformat": 4,
 "nbformat_minor": 5
}
